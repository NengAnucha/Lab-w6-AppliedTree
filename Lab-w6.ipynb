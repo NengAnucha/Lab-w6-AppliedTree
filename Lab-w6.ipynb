{
 "cells": [
  {
   "cell_type": "markdown",
   "id": "640dce75",
   "metadata": {},
   "source": [
    "# การประยุกต์ใช้โครงสร้างต้นไม้กับ Tree data structure\n",
    "# 1. ผลรวม คู่อันดับก่อนหน้าและลำดับตามหลัง root\n",
    "# 2. ผลรวมของ ต้นไม้ทั้งต้น\n",
    "# 3. ผลรวมของ N ลำดับก่อนหน้า ลำดับตามหลัง ของการท่องต้นไม้แบบตามลำดับ\n",
    "# 4. ผลรวมของ กิ่งซ้ายสุด และ กิ่งขวาสุด ของต้นไม้"
   ]
  },
  {
   "cell_type": "code",
   "execution_count": 41,
   "id": "24d41186",
   "metadata": {
    "scrolled": true
   },
   "outputs": [
    {
     "name": "stdout",
     "output_type": "stream",
     "text": [
      "Perfect BST of given height : \n",
      " \n",
      "        ____10______\n",
      "       /            \\\n",
      "    __7          ____13\n",
      "   /   \\        /      \\\n",
      "  5     8      11       14\n",
      " / \\     \\       \\\n",
      "2   6     9       12\n",
      "\n"
     ]
    }
   ],
   "source": [
    "from binarytree import bst\n",
    "root = bst(height = 3)\n",
    "print('Perfect BST of given height : \\n',\n",
    "      root)"
   ]
  },
  {
   "cell_type": "code",
   "execution_count": 42,
   "id": "69174ba6",
   "metadata": {
    "scrolled": true
   },
   "outputs": [
    {
     "name": "stdout",
     "output_type": "stream",
     "text": [
      "[Node(2), Node(5), Node(6), Node(7), Node(8), Node(9), Node(10), Node(11), Node(12), Node(13), Node(14)]\n"
     ]
    }
   ],
   "source": [
    "print(root.inorder)"
   ]
  },
  {
   "cell_type": "code",
   "execution_count": 43,
   "id": "8516e030",
   "metadata": {},
   "outputs": [
    {
     "name": "stdout",
     "output_type": "stream",
     "text": [
      "[Node(10), Node(7), Node(5), Node(2), Node(6), Node(8), Node(9), Node(13), Node(11), Node(12), Node(14)]\n"
     ]
    }
   ],
   "source": [
    "print(root.preorder)"
   ]
  },
  {
   "cell_type": "code",
   "execution_count": 44,
   "id": "562d5e4e",
   "metadata": {},
   "outputs": [
    {
     "name": "stdout",
     "output_type": "stream",
     "text": [
      "[Node(2), Node(6), Node(5), Node(9), Node(8), Node(7), Node(12), Node(11), Node(14), Node(13), Node(10)]\n"
     ]
    }
   ],
   "source": [
    "print(root.postorder)"
   ]
  },
  {
   "cell_type": "markdown",
   "id": "d65b1107",
   "metadata": {},
   "source": [
    "# 1. ผลรวม คู่อันดับก่อนหน้าและลำดับตามหลัง root"
   ]
  },
  {
   "cell_type": "code",
   "execution_count": 45,
   "id": "8f811a0e",
   "metadata": {},
   "outputs": [
    {
     "name": "stdout",
     "output_type": "stream",
     "text": [
      "1 # : 20\n"
     ]
    }
   ],
   "source": [
    "def TraverseTree(root):\n",
    "\n",
    "    Sum = root.left.value + root.right.value\n",
    "    return Sum\n",
    "\n",
    "Sum = TraverseTree(root)\n",
    "print(\"1 # : \" + str(Sum))"
   ]
  },
  {
   "cell_type": "markdown",
   "id": "58d13e85",
   "metadata": {},
   "source": [
    "# 2. ผลรวมของ ต้นไม้ทั้งต้น"
   ]
  },
  {
   "cell_type": "code",
   "execution_count": 108,
   "id": "b7ca7f8a",
   "metadata": {},
   "outputs": [
    {
     "name": "stdout",
     "output_type": "stream",
     "text": [
      "2 # : 97\n"
     ]
    }
   ],
   "source": [
    "def InorderTraverseTree( root): \n",
    "    if root:\n",
    "        return InorderTraverseTree(root.left) + int(root.value) + InorderTraverseTree(root.right)\n",
    "    else:\n",
    "        return 0\n",
    "\n",
    "Sum = InorderTraverseTree(root)\n",
    "print(\"2 # : \" + str(Sum))"
   ]
  },
  {
   "cell_type": "markdown",
   "id": "7044a864",
   "metadata": {},
   "source": [
    "# 3. ค้นหา โหนดในต้นไม้ ว่ามีเลขที่เราต้องการหรือไม่"
   ]
  },
  {
   "cell_type": "code",
   "execution_count": 106,
   "id": "294a2bb1",
   "metadata": {},
   "outputs": [
    {
     "name": "stdout",
     "output_type": "stream",
     "text": [
      "3 #  True\n"
     ]
    }
   ],
   "source": [
    "def Search(root,key):\n",
    "    if root:\n",
    "        if key == root.value:\n",
    "            return True\n",
    "        else:\n",
    "            if key > root.value:\n",
    "                return Search(root.right,key)\n",
    "            else:\n",
    "                return Search(root.left,key)\n",
    "    return False\n",
    "\n",
    "key = 14\n",
    "print(\"3 # \", Search(root,key))"
   ]
  },
  {
   "cell_type": "markdown",
   "id": "d9c1482d",
   "metadata": {},
   "source": [
    "# 4. ผลรวมของ กิ่งซ้ายสุด และ กิ่งขวาสุด ของต้นไม้"
   ]
  },
  {
   "cell_type": "code",
   "execution_count": 107,
   "id": "cb935368",
   "metadata": {
    "scrolled": true
   },
   "outputs": [
    {
     "name": "stdout",
     "output_type": "stream",
     "text": [
      "4 # The result :  16\n"
     ]
    }
   ],
   "source": [
    "def SumOfLeftestAndRightest(root):\n",
    "    res = []\n",
    "    if root:\n",
    "        res = SumOfLeftestAndRightest(root.left)\n",
    "        res.append(root.value)\n",
    "        res += SumOfLeftestAndRightest(root.right)\n",
    "        #print(root.value)\n",
    "\n",
    "    return res\n",
    "\n",
    "t = SumOfLeftestAndRightest(root)\n",
    "print(\"4 #\", \"The result : \", t[0] +t[-1])"
   ]
  },
  {
   "cell_type": "code",
   "execution_count": null,
   "id": "ecab22e2",
   "metadata": {},
   "outputs": [],
   "source": []
  }
 ],
 "metadata": {
  "kernelspec": {
   "display_name": "Python 3 (ipykernel)",
   "language": "python",
   "name": "python3"
  },
  "language_info": {
   "codemirror_mode": {
    "name": "ipython",
    "version": 3
   },
   "file_extension": ".py",
   "mimetype": "text/x-python",
   "name": "python",
   "nbconvert_exporter": "python",
   "pygments_lexer": "ipython3",
   "version": "3.10.0"
  }
 },
 "nbformat": 4,
 "nbformat_minor": 5
}
